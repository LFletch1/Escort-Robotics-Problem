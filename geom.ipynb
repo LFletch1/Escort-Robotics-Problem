{
 "cells": [
  {
   "cell_type": "code",
   "execution_count": 2,
   "metadata": {},
   "outputs": [],
   "source": [
    "import skgeom as sg\n",
    "from skgeom.draw import draw\n",
    "from skgeom import boolean_set"
   ]
  },
  {
   "cell_type": "code",
   "execution_count": 3,
   "metadata": {},
   "outputs": [],
   "source": [
    "def polyFromCoords(coords_list):\n",
    "    point2List = []\n",
    "    for coord in coords_list:\n",
    "        point2List.append(sg.Point2(coord[0],coord[1]))\n",
    "    return sg.Polygon(point2List)\n"
   ]
  },
  {
   "cell_type": "code",
   "execution_count": 4,
   "metadata": {},
   "outputs": [
    {
     "data": {
      "image/png": "[encoded data removed]",
      "text/plain": [
       "<Figure size 640x480 with 1 Axes>"
      ]
     },
     "metadata": {},
     "output_type": "display_data"
    }
   ],
   "source": [
    "\n",
    "poly1 = sg.Polygon([sg.Point2(2,6),sg.Point2(2, 4), sg.Point2(11,4), sg.Point2(11, 6)])\n",
    "poly2 = sg.Polygon([sg.Point2(0, 0), sg.Point2(2,0), sg.Point2(2,6), sg.Point2(0, 6)])\n",
    "poly3 = sg.Polygon([sg.Point2(5,1),sg.Point2(7, 1), sg.Point2(7,9), sg.Point2(5, 9)])\n",
    "poly4 = sg.Polygon([sg.Point2(3,1),sg.Point2(3, 3), sg.Point2(9,3), sg.Point2(9, 1)])\n",
    "# test_poly = sg.Polygon([sg.Point2(0,0),sg.Point2(0,6),sg.Point2(11,6),sg.Point2(11,4),sg.Point2(2,4),sg.Point2(2,0)])\n",
    "coords = [(0,0),(0,6),(5,6),(5,7),(3,7),(3,9),(9,9),(9,7),(7,7),(7,6),\\\n",
    "            (11,6),(11,4),(7,4),(7,3),(9,3),(9,1),(3,1),(3,3),(5,3),(5,4),(2,4),(2,0)]\n",
    "test_poly = polyFromCoords(coords)\n",
    "\n",
    "draw(test_poly)\n",
    "# poly_list = [poly1, poly2, poly3, poly4]\n",
    "# joint = polyJoiner(poly_list)\n",
    "# draw(joint)\n"
   ]
  },
  {
   "cell_type": "code",
   "execution_count": null,
   "metadata": {},
   "outputs": [],
   "source": []
  }
 ],
 "metadata": {
  "kernelspec": {
   "display_name": "Python 3.7.15 ('escort_env')",
   "language": "python",
   "name": "python3"
  },
  "language_info": {
   "codemirror_mode": {
    "name": "ipython",
    "version": 3
   },
   "file_extension": ".py",
   "mimetype": "text/x-python",
   "name": "python",
   "nbconvert_exporter": "python",
   "pygments_lexer": "ipython3",
   "version": "3.7.15"
  },
  "orig_nbformat": 4,
  "vscode": {
   "interpreter": {
    "hash": "f5ec26c45bbaa9a1256e615a36a8c410b9869233e877b8694870fdf5c64048bd"
   }
  }
 },
 "nbformat": 4,
 "nbformat_minor": 2
}
